{
  "nbformat": 4,
  "nbformat_minor": 0,
  "metadata": {
    "colab": {
      "provenance": [],
      "authorship_tag": "ABX9TyM22DZ1UWaIdbOidewir3hE",
      "include_colab_link": true
    },
    "kernelspec": {
      "name": "python3",
      "display_name": "Python 3"
    },
    "language_info": {
      "name": "python"
    }
  },
  "cells": [
    {
      "cell_type": "markdown",
      "metadata": {
        "id": "view-in-github",
        "colab_type": "text"
      },
      "source": [
        "<a href=\"https://colab.research.google.com/github/ohhhanna/PYTORCH_j/blob/main/tensor_intro1.ipynb\" target=\"_parent\"><img src=\"https://colab.research.google.com/assets/colab-badge.svg\" alt=\"Open In Colab\"/></a>"
      ]
    },
    {
      "cell_type": "code",
      "execution_count": null,
      "metadata": {
        "id": "U7A_jifzNYCh"
      },
      "outputs": [],
      "source": [
        "#TENSOR\n",
        "#a torch.Tensor is a multidimsional matrix\n",
        "#similar to numpy arrays but works beter in GPU\n",
        "#default type is float\n",
        "#we can cange the type later"
      ]
    },
    {
      "cell_type": "code",
      "source": [
        "import torch\n",
        "import numpy as np"
      ],
      "metadata": {
        "id": "yr6ctKJFOC_1"
      },
      "execution_count": 2,
      "outputs": []
    },
    {
      "cell_type": "markdown",
      "source": [
        "LISTS"
      ],
      "metadata": {
        "id": "irMRTp0aOZCQ"
      }
    },
    {
      "cell_type": "code",
      "source": [
        "my_list = [[1,2,3,4,5],[6,7,8,9,0]]\n",
        "my_list"
      ],
      "metadata": {
        "colab": {
          "base_uri": "https://localhost:8080/"
        },
        "id": "g8zbU9TXOa-a",
        "outputId": "9c329f86-1ec7-4d6d-e2a1-f308ad0552e2"
      },
      "execution_count": 3,
      "outputs": [
        {
          "output_type": "execute_result",
          "data": {
            "text/plain": [
              "[[1, 2, 3, 4, 5], [6, 7, 8, 9, 0]]"
            ]
          },
          "metadata": {},
          "execution_count": 3
        }
      ]
    },
    {
      "cell_type": "markdown",
      "source": [
        "numpy arrays"
      ],
      "metadata": {
        "id": "hpM-aj7sOstx"
      }
    },
    {
      "cell_type": "code",
      "source": [
        "np1 = np.random.rand(3,4)\n",
        "np1"
      ],
      "metadata": {
        "colab": {
          "base_uri": "https://localhost:8080/"
        },
        "id": "GB33bPTAOu5K",
        "outputId": "dd2a48c1-57e0-4b2b-fe82-17c6015bf48e"
      },
      "execution_count": 4,
      "outputs": [
        {
          "output_type": "execute_result",
          "data": {
            "text/plain": [
              "array([[0.42850678, 0.62568863, 0.21947796, 0.18594269],\n",
              "       [0.24461667, 0.74908218, 0.68642966, 0.40980084],\n",
              "       [0.58123927, 0.93926701, 0.47762464, 0.80678671]])"
            ]
          },
          "metadata": {},
          "execution_count": 4
        }
      ]
    },
    {
      "cell_type": "code",
      "source": [
        "np1.dtype"
      ],
      "metadata": {
        "colab": {
          "base_uri": "https://localhost:8080/"
        },
        "id": "MbS2028OT_4A",
        "outputId": "54a1d560-d0c1-49d0-ad2b-3db01b8a753e"
      },
      "execution_count": 5,
      "outputs": [
        {
          "output_type": "execute_result",
          "data": {
            "text/plain": [
              "dtype('float64')"
            ]
          },
          "metadata": {},
          "execution_count": 5
        }
      ]
    },
    {
      "cell_type": "markdown",
      "source": [
        "TENSORS"
      ],
      "metadata": {
        "id": "m4BlwUdAUOBx"
      }
    },
    {
      "cell_type": "code",
      "source": [
        "tensor_2d = torch.randn(3,4)\n",
        "tensor_2d"
      ],
      "metadata": {
        "colab": {
          "base_uri": "https://localhost:8080/"
        },
        "id": "JTrfC-OdUPQl",
        "outputId": "18fd0aaf-4104-4f4b-ace2-8335fa1530b0"
      },
      "execution_count": 6,
      "outputs": [
        {
          "output_type": "execute_result",
          "data": {
            "text/plain": [
              "tensor([[ 0.8559, -0.7461, -0.7970, -1.2725],\n",
              "        [ 0.6291, -0.6553, -0.9483,  0.8946],\n",
              "        [-0.7244, -0.2493,  0.7729, -1.5586]])"
            ]
          },
          "metadata": {},
          "execution_count": 6
        }
      ]
    },
    {
      "cell_type": "markdown",
      "source": [
        "tensor and numpy array act very similar, but tensor is sort of designed for deep learning and more powerful, we can go back and forth with these two"
      ],
      "metadata": {
        "id": "TBkvdRrxUeG2"
      }
    },
    {
      "cell_type": "code",
      "source": [
        "tensor_3d = torch.zeros(2,3,4)\n",
        "tensor_3d"
      ],
      "metadata": {
        "colab": {
          "base_uri": "https://localhost:8080/"
        },
        "id": "_XzvzrK3UliV",
        "outputId": "3a2cc3e1-cf27-4a6c-9782-2300848a76eb"
      },
      "execution_count": 7,
      "outputs": [
        {
          "output_type": "execute_result",
          "data": {
            "text/plain": [
              "tensor([[[0., 0., 0., 0.],\n",
              "         [0., 0., 0., 0.],\n",
              "         [0., 0., 0., 0.]],\n",
              "\n",
              "        [[0., 0., 0., 0.],\n",
              "         [0., 0., 0., 0.],\n",
              "         [0., 0., 0., 0.]]])"
            ]
          },
          "metadata": {},
          "execution_count": 7
        }
      ]
    },
    {
      "cell_type": "code",
      "source": [
        "#create tensor out of numoy array\n",
        "my_tensor = torch.tensor(np1)\n",
        "my_tensor"
      ],
      "metadata": {
        "id": "QBcscLBwUulA",
        "colab": {
          "base_uri": "https://localhost:8080/"
        },
        "outputId": "08fcf9e9-9c71-4a85-a7ad-44d4ccddd3e5"
      },
      "execution_count": 8,
      "outputs": [
        {
          "output_type": "execute_result",
          "data": {
            "text/plain": [
              "tensor([[0.4285, 0.6257, 0.2195, 0.1859],\n",
              "        [0.2446, 0.7491, 0.6864, 0.4098],\n",
              "        [0.5812, 0.9393, 0.4776, 0.8068]], dtype=torch.float64)"
            ]
          },
          "metadata": {},
          "execution_count": 8
        }
      ]
    }
  ]
}